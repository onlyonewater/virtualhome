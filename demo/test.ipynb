{
 "cells": [
  {
   "cell_type": "code",
   "execution_count": 8,
   "id": "detailed-quantum",
   "metadata": {},
   "outputs": [
    {
     "name": "stdout",
     "output_type": "stream",
     "text": [
      "{'id': 149, 'category': 'Appliances', 'class_name': 'fridge', 'prefab_name': 'PRE_APP_Fridge_01_03', 'obj_transform': {'position': [-2.97299981, 0.0, 1.32100248], 'rotation': [0.0, -1.0, 0.0, -8.940697e-08]}, 'bounding_box': {'center': [-2.962186, 1.06257987, 1.32157409], 'size': [0.7121655, 2.125163, 0.889662445]}, 'properties': ['CAN_OPEN', 'HAS_SWITCH', 'CONTAINERS', 'HAS_PLUG'], 'states': ['CLOSED']}\n"
     ]
    },
    {
     "data": {
      "text/plain": [
       "<unity_simulator.comm_unity.UnityCommunication at 0x1b1ef17dc08>"
      ]
     },
     "execution_count": 8,
     "metadata": {},
     "output_type": "execute_result"
    }
   ],
   "source": [
    "%matplotlib notebook\n",
    "import IPython.display\n",
    "from utils_demo import *\n",
    "from sys import platform\n",
    "import sys\n",
    "from PIL import Image\n",
    "import matplotlib.pyplot as plt\n",
    "\n",
    "sys.path.append('../simulation')\n",
    "from unity_simulator.comm_unity import UnityCommunication\n",
    "from unity_simulator import utils_viz\n",
    "\n",
    "\n",
    "comm = UnityCommunication()\n",
    "\n",
    "comm.reset(1)\n",
    "comm.add_character('Chars/Male1', initial_room='bathroom')\n",
    "\n",
    "s, g = comm.environment_graph()\n",
    "comm.add_character_camera(position=[1.0,2.0,-1.0], rotation=[30, -30, 0], name=\"new_camera\")\n",
    "radio_id = [node['id'] for node in g['nodes'] if node['class_name'] == 'mouse'][0]\n",
    "chips_id = [node['id'] for node in g['nodes'] if node['class_name'] == 'chips'][0]\n",
    "fridge_node = [x for x in g['nodes'] if x['class_name'] == 'fridge'][0]\n",
    "print(fridge_node)\n",
    "fridge_id = fridge_node['id']\n",
    "fridge_node['states'] = ['OPEN']\n",
    "_ = comm.expand_scene(g)\n",
    "\n",
    "# fridge_id = [node['id'] for node in g['nodes'] if node['class_name'] == 'fridge'][0]\n",
    "light_node = [x for x in g['nodes'] if x['class_name'] == 'lightswitch'][1]\n",
    "lightswitch_id = light_node['id']\n",
    "light_node['states'] = ['OFF']\n",
    "# _ = comm.expand_scene(g)\n",
    "\n",
    "# script = ['<char0> [walk] <bathroomcabinet> (49)', '<char0> [open] <bathroomcabinet> (49)', '<char0> [walk] <cutleryfork> (285)', '<char0> [grab] <cutleryfork> (285)', '<char0> [walk] <lightswitch> (176)', '<char0> [switchon] <lightswitch> (176)', '<char0> [run] <bathroom> (11)']\n",
    "# script = ['<char0> [walk] <cereal> (335)', '<char0> [grab] <cereal> (335)', '<char0> [walk] <computer> (177)', '<char0> [switchon] <computer> (177)', '<char0> [walk] <fridge> (306)', '<char0> [open] <fridge> (306)', '<char0> [walk] <computer> (177)', '<char0> [switchoff] <computer> (177)']\n",
    "# script = [\"<char0> [walk] <plate> (252)\"]\n",
    "script = [\n",
    "    '<char0> [walk] <chips> ({})'.format(chips_id),\n",
    "    '<char0> [grab] <chips> ({})'.format(chips_id),\n",
    "    '<char0> [walk] <fridge> ({})'.format(fridge_id),\n",
    "    # '<char0> [open] <fridge> ({})'.format(fridge_id),\n",
    "    '<char0> [putin] <chips> ({}) <fridge> ({})'.format(chips_id, fridge_id),\n",
    "]\n",
    "\n",
    "\"\"\"\n",
    "script = [\n",
    "    # '<char0> [turnleft]',\n",
    "    '<char0> [walk] <fridge> ({})'.format(fridge_id),\n",
    "    # '<char0> [grab] <mouse> ({})'.format(radio_id),\n",
    "    '<char0> [open] <fridge> ({})'.format(fridge_id),\n",
    "    '<char0> [close] <fridge> ({})'.format(fridge_id),\n",
    "    # '<char0> [walk] <chair> ({})'.format(chair_id),\n",
    "    # '<char0> [sit] <chair> ({})'.format(chair_id),  \n",
    "]\n",
    "\"\"\"\n",
    "\n",
    "success, message = comm.render_script(script=script,\n",
    "                                      iter_=0,\n",
    "                                      processing_time_limit=60,\n",
    "                                      find_solution=False,\n",
    "                                      frame_rate=5,\n",
    "                                      image_width=1280,\n",
    "                                      image_height=720,  \n",
    "                                      skip_animation=False,\n",
    "                                      recording=True,\n",
    "                                      save_pose_data=True,\n",
    "                                      camera_mode=['new_camera'],\n",
    "                                      file_name_prefix='relax')"
   ]
  },
  {
   "cell_type": "code",
   "execution_count": null,
   "id": "adjacent-threat",
   "metadata": {},
   "outputs": [],
   "source": []
  }
 ],
 "metadata": {
  "kernelspec": {
   "display_name": "Python 3",
   "language": "python",
   "name": "python3"
  },
  "language_info": {
   "codemirror_mode": {
    "name": "ipython",
    "version": 3
   },
   "file_extension": ".py",
   "mimetype": "text/x-python",
   "name": "python",
   "nbconvert_exporter": "python",
   "pygments_lexer": "ipython3",
   "version": "3.7.9"
  }
 },
 "nbformat": 4,
 "nbformat_minor": 5
}
